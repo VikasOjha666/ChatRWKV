{
  "nbformat": 4,
  "nbformat_minor": 0,
  "metadata": {
    "colab": {
      "provenance": []
    },
    "kernelspec": {
      "name": "python3",
      "display_name": "Python 3"
    },
    "language_info": {
      "name": "python"
    },
    "accelerator": "GPU",
    "gpuClass": "standard"
  },
  "cells": [
    {
      "cell_type": "code",
      "execution_count": 1,
      "metadata": {
        "colab": {
          "base_uri": "https://localhost:8080/"
        },
        "id": "U03eNeDGfxMC",
        "outputId": "615ee43f-b132-4b06-e329-96349c730006"
      },
      "outputs": [
        {
          "output_type": "stream",
          "name": "stdout",
          "text": [
            "Looking in indexes: https://pypi.org/simple, https://us-python.pkg.dev/colab-wheels/public/simple/\n",
            "Collecting rwkv\n",
            "  Downloading rwkv-0.7.3-py3-none-any.whl (16 kB)\n",
            "Collecting tokenizers>=0.13.2\n",
            "  Downloading tokenizers-0.13.3-cp39-cp39-manylinux_2_17_x86_64.manylinux2014_x86_64.whl (7.8 MB)\n",
            "\u001b[2K     \u001b[90m━━━━━━━━━━━━━━━━━━━━━━━━━━━━━━━━━━━━━━━━\u001b[0m \u001b[32m7.8/7.8 MB\u001b[0m \u001b[31m80.9 MB/s\u001b[0m eta \u001b[36m0:00:00\u001b[0m\n",
            "\u001b[?25hInstalling collected packages: tokenizers, rwkv\n",
            "Successfully installed rwkv-0.7.3 tokenizers-0.13.3\n"
          ]
        }
      ],
      "source": [
        "!pip install rwkv"
      ]
    },
    {
      "cell_type": "code",
      "source": [
        "import os\n",
        "# set these before import RWKV\n",
        "os.environ['RWKV_JIT_ON'] = '1'\n",
        "os.environ[\"RWKV_CUDA_ON\"] = '0'"
      ],
      "metadata": {
        "id": "ejhufGgWf4bg"
      },
      "execution_count": 2,
      "outputs": []
    },
    {
      "cell_type": "code",
      "source": [
        "!wget https://huggingface.co/BlinkDL/rwkv-4-pile-3b/resolve/main/RWKV-4-Pile-3B-20220910-165.pth"
      ],
      "metadata": {
        "colab": {
          "base_uri": "https://localhost:8080/"
        },
        "id": "pWrxv-U7gap-",
        "outputId": "84da4a22-ae94-4dea-d3f3-c5da04932e28"
      },
      "execution_count": 3,
      "outputs": [
        {
          "output_type": "stream",
          "name": "stdout",
          "text": [
            "--2023-04-15 11:47:49--  https://huggingface.co/BlinkDL/rwkv-4-pile-3b/resolve/main/RWKV-4-Pile-3B-20220910-165.pth\n",
            "Resolving huggingface.co (huggingface.co)... 13.224.249.63, 13.224.249.86, 13.224.249.35, ...\n",
            "Connecting to huggingface.co (huggingface.co)|13.224.249.63|:443... connected.\n",
            "HTTP request sent, awaiting response... 302 Found\n",
            "Location: https://cdn-lfs.huggingface.co/repos/83/3c/833ca8226054ae3c90a5d426f6de2c70a1ae3dc3b9f525298cab3f745a491251/5607297fd260ac63e813b45e5b1162e2259db968a265dc9e43ed365ae660e360?response-content-disposition=attachment%3B+filename*%3DUTF-8%27%27RWKV-4-Pile-3B-20220910-165.pth%3B+filename%3D%22RWKV-4-Pile-3B-20220910-165.pth%22%3B&Expires=1681818470&Policy=eyJTdGF0ZW1lbnQiOlt7IlJlc291cmNlIjoiaHR0cHM6Ly9jZG4tbGZzLmh1Z2dpbmdmYWNlLmNvL3JlcG9zLzgzLzNjLzgzM2NhODIyNjA1NGFlM2M5MGE1ZDQyNmY2ZGUyYzcwYTFhZTNkYzNiOWY1MjUyOThjYWIzZjc0NWE0OTEyNTEvNTYwNzI5N2ZkMjYwYWM2M2U4MTNiNDVlNWIxMTYyZTIyNTlkYjk2OGEyNjVkYzllNDNlZDM2NWFlNjYwZTM2MD9yZXNwb25zZS1jb250ZW50LWRpc3Bvc2l0aW9uPSoiLCJDb25kaXRpb24iOnsiRGF0ZUxlc3NUaGFuIjp7IkFXUzpFcG9jaFRpbWUiOjE2ODE4MTg0NzB9fX1dfQ__&Signature=QRwb2JFwJtKVdjCXyjDNXFqVZLP67GvRRoMfPGv80V5fLR2-zEPh1uVYETwM-WV7v-fp-jnlvM9VDxYWQJwXSZhNYhPcg3HpqtQKsBWCllZxOExK3KZN3UDCTRPMTgM1kBF7iSxP2EBKuN0jWZTu0KW5uCp3-WjN%7EE-ePLcBx2yAFE4sQ2BAA2bg3ao8au3PTxY726vArD-8Ub4VrPBypcrrWWCtQPUd3DPkEwRpSBAC6j2FNirO4XEL9-3t1fU4B2nWsW5YarqtinUN8Xgehv7V-%7Eb5-dFUbsQ-j87OEPAVs4x%7E3oLcB0fTuM1ub7C30dAjNwNAVVrqD46N7mRMGg__&Key-Pair-Id=KVTP0A1DKRTAX [following]\n",
            "--2023-04-15 11:47:50--  https://cdn-lfs.huggingface.co/repos/83/3c/833ca8226054ae3c90a5d426f6de2c70a1ae3dc3b9f525298cab3f745a491251/5607297fd260ac63e813b45e5b1162e2259db968a265dc9e43ed365ae660e360?response-content-disposition=attachment%3B+filename*%3DUTF-8%27%27RWKV-4-Pile-3B-20220910-165.pth%3B+filename%3D%22RWKV-4-Pile-3B-20220910-165.pth%22%3B&Expires=1681818470&Policy=eyJTdGF0ZW1lbnQiOlt7IlJlc291cmNlIjoiaHR0cHM6Ly9jZG4tbGZzLmh1Z2dpbmdmYWNlLmNvL3JlcG9zLzgzLzNjLzgzM2NhODIyNjA1NGFlM2M5MGE1ZDQyNmY2ZGUyYzcwYTFhZTNkYzNiOWY1MjUyOThjYWIzZjc0NWE0OTEyNTEvNTYwNzI5N2ZkMjYwYWM2M2U4MTNiNDVlNWIxMTYyZTIyNTlkYjk2OGEyNjVkYzllNDNlZDM2NWFlNjYwZTM2MD9yZXNwb25zZS1jb250ZW50LWRpc3Bvc2l0aW9uPSoiLCJDb25kaXRpb24iOnsiRGF0ZUxlc3NUaGFuIjp7IkFXUzpFcG9jaFRpbWUiOjE2ODE4MTg0NzB9fX1dfQ__&Signature=QRwb2JFwJtKVdjCXyjDNXFqVZLP67GvRRoMfPGv80V5fLR2-zEPh1uVYETwM-WV7v-fp-jnlvM9VDxYWQJwXSZhNYhPcg3HpqtQKsBWCllZxOExK3KZN3UDCTRPMTgM1kBF7iSxP2EBKuN0jWZTu0KW5uCp3-WjN%7EE-ePLcBx2yAFE4sQ2BAA2bg3ao8au3PTxY726vArD-8Ub4VrPBypcrrWWCtQPUd3DPkEwRpSBAC6j2FNirO4XEL9-3t1fU4B2nWsW5YarqtinUN8Xgehv7V-%7Eb5-dFUbsQ-j87OEPAVs4x%7E3oLcB0fTuM1ub7C30dAjNwNAVVrqD46N7mRMGg__&Key-Pair-Id=KVTP0A1DKRTAX\n",
            "Resolving cdn-lfs.huggingface.co (cdn-lfs.huggingface.co)... 13.33.88.105, 13.33.88.100, 13.33.88.8, ...\n",
            "Connecting to cdn-lfs.huggingface.co (cdn-lfs.huggingface.co)|13.33.88.105|:443... connected.\n",
            "HTTP request sent, awaiting response... 200 OK\n",
            "Length: 5969344803 (5.6G) [binary/octet-stream]\n",
            "Saving to: ‘RWKV-4-Pile-3B-20220910-165.pth’\n",
            "\n",
            "RWKV-4-Pile-3B-2022 100%[===================>]   5.56G   183MB/s    in 31s     \n",
            "\n",
            "2023-04-15 11:48:21 (185 MB/s) - ‘RWKV-4-Pile-3B-20220910-165.pth’ saved [5969344803/5969344803]\n",
            "\n"
          ]
        }
      ]
    },
    {
      "cell_type": "code",
      "source": [
        "!git clone https://github.com/BlinkDL/ChatRWKV"
      ],
      "metadata": {
        "colab": {
          "base_uri": "https://localhost:8080/"
        },
        "id": "3OXhX_5zlz3S",
        "outputId": "771b46a0-46e4-44da-ec14-0344b467f7d9"
      },
      "execution_count": 4,
      "outputs": [
        {
          "output_type": "stream",
          "name": "stdout",
          "text": [
            "Cloning into 'ChatRWKV'...\n",
            "remote: Enumerating objects: 1323, done.\u001b[K\n",
            "remote: Counting objects: 100% (199/199), done.\u001b[K\n",
            "remote: Compressing objects: 100% (139/139), done.\u001b[K\n",
            "remote: Total 1323 (delta 75), reused 149 (delta 45), pack-reused 1124\u001b[K\n",
            "Receiving objects: 100% (1323/1323), 26.97 MiB | 17.91 MiB/s, done.\n",
            "Resolving deltas: 100% (709/709), done.\n"
          ]
        }
      ]
    },
    {
      "cell_type": "code",
      "source": [
        "from rwkv.model import RWKV\n",
        "from rwkv.utils import PIPELINE, PIPELINE_ARGS\n",
        "\n",
        "# download models: https://huggingface.co/BlinkDL\n",
        "model = RWKV(model='/content/RWKV-4-Pile-3B-20220910-165.pth', strategy='cuda fp16')\n",
        "pipeline = PIPELINE(model, \"/content/ChatRWKV/20B_tokenizer.json\") # 20B_tokenizer.json is in https://github.com/BlinkDL/ChatRWKV\n"
      ],
      "metadata": {
        "colab": {
          "base_uri": "https://localhost:8080/"
        },
        "id": "CXV8TVPYgRIo",
        "outputId": "5cd8a62c-60e1-4058-d100-0acac8b00527"
      },
      "execution_count": 5,
      "outputs": [
        {
          "output_type": "stream",
          "name": "stdout",
          "text": [
            "RWKV_JIT_ON 1 RWKV_CUDA_ON 0 RESCALE_LAYER 6\n",
            "\n",
            "Loading /content/RWKV-4-Pile-3B-20220910-165.pth ...\n",
            "Strategy: (total 32+1=33 layers)\n",
            "* cuda [float16, float16], store 33 layers\n",
            "0-cuda-float16-float16 1-cuda-float16-float16 2-cuda-float16-float16 3-cuda-float16-float16 4-cuda-float16-float16 5-cuda-float16-float16 6-cuda-float16-float16 7-cuda-float16-float16 8-cuda-float16-float16 9-cuda-float16-float16 10-cuda-float16-float16 11-cuda-float16-float16 12-cuda-float16-float16 13-cuda-float16-float16 14-cuda-float16-float16 15-cuda-float16-float16 16-cuda-float16-float16 17-cuda-float16-float16 18-cuda-float16-float16 19-cuda-float16-float16 20-cuda-float16-float16 21-cuda-float16-float16 22-cuda-float16-float16 23-cuda-float16-float16 24-cuda-float16-float16 25-cuda-float16-float16 26-cuda-float16-float16 27-cuda-float16-float16 28-cuda-float16-float16 29-cuda-float16-float16 30-cuda-float16-float16 31-cuda-float16-float16 32-cuda-float16-float16 \n",
            "emb.weight                        f16      cpu  50277  2560 \n",
            "blocks.0.ln1.weight               f16   cuda:0   2560       \n",
            "blocks.0.ln1.bias                 f16   cuda:0   2560       \n",
            "blocks.0.ln2.weight               f16   cuda:0   2560       \n",
            "blocks.0.ln2.bias                 f16   cuda:0   2560       \n",
            "blocks.0.att.time_decay           f32   cuda:0   2560       \n",
            "blocks.0.att.time_first           f32   cuda:0   2560       \n",
            "blocks.0.att.time_mix_k           f16   cuda:0   2560       \n",
            "blocks.0.att.time_mix_v           f16   cuda:0   2560       \n",
            "blocks.0.att.time_mix_r           f16   cuda:0   2560       \n",
            "blocks.0.att.key.weight           f16   cuda:0   2560  2560 \n",
            "blocks.0.att.value.weight         f16   cuda:0   2560  2560 \n",
            "blocks.0.att.receptance.weight    f16   cuda:0   2560  2560 \n",
            "blocks.0.att.output.weight        f16   cuda:0   2560  2560 \n",
            "blocks.0.ffn.time_mix_k           f16   cuda:0   2560       \n",
            "blocks.0.ffn.time_mix_r           f16   cuda:0   2560       \n",
            "blocks.0.ffn.key.weight           f16   cuda:0   2560 10240 \n",
            "blocks.0.ffn.receptance.weight    f16   cuda:0   2560  2560 \n",
            "blocks.0.ffn.value.weight         f16   cuda:0  10240  2560 \n",
            "............................................................................................................................................................................................................................................................................................................................................................................................................................................................................................................................................................\n",
            "blocks.31.ln1.weight              f16   cuda:0   2560       \n",
            "blocks.31.ln1.bias                f16   cuda:0   2560       \n",
            "blocks.31.ln2.weight              f16   cuda:0   2560       \n",
            "blocks.31.ln2.bias                f16   cuda:0   2560       \n",
            "blocks.31.att.time_decay          f32   cuda:0   2560       \n",
            "blocks.31.att.time_first          f32   cuda:0   2560       \n",
            "blocks.31.att.time_mix_k          f16   cuda:0   2560       \n",
            "blocks.31.att.time_mix_v          f16   cuda:0   2560       \n",
            "blocks.31.att.time_mix_r          f16   cuda:0   2560       \n",
            "blocks.31.att.key.weight          f16   cuda:0   2560  2560 \n",
            "blocks.31.att.value.weight        f16   cuda:0   2560  2560 \n",
            "blocks.31.att.receptance.weight   f16   cuda:0   2560  2560 \n",
            "blocks.31.att.output.weight       f16   cuda:0   2560  2560 \n",
            "blocks.31.ffn.time_mix_k          f16   cuda:0   2560       \n",
            "blocks.31.ffn.time_mix_r          f16   cuda:0   2560       \n",
            "blocks.31.ffn.key.weight          f16   cuda:0   2560 10240 \n",
            "blocks.31.ffn.receptance.weight   f16   cuda:0   2560  2560 \n",
            "blocks.31.ffn.value.weight        f16   cuda:0  10240  2560 \n",
            "ln_out.weight                     f16   cuda:0   2560       \n",
            "ln_out.bias                       f16   cuda:0   2560       \n",
            "head.weight                       f16   cuda:0   2560 50277 \n"
          ]
        }
      ]
    },
    {
      "cell_type": "code",
      "source": [
        "ctx = \"Here's a short story. One day Chris took his dog to a garden.\\nThe Story:\"\n",
        "print(ctx, end='')\n",
        "\n",
        "def my_print(s):\n",
        "    print(s, end='', flush=True)\n",
        "\n",
        "# For alpha_frequency and alpha_presence, see \"Frequency and presence penalties\":\n",
        "# https://platform.openai.com/docs/api-reference/parameter-details\n",
        "\n",
        "args = PIPELINE_ARGS(temperature = 1, top_p = 0.7, top_k = 50, # top_k = 0 then ignore\n",
        "                     alpha_frequency = 0.5,\n",
        "                     alpha_presence = 0.5,\n",
        "                     token_ban = [0], # ban the generation of some tokens\n",
        "                     token_stop = [], # stop generation whenever you see any token here\n",
        "                     chunk_len = 256) # split input into chunks to save VRAM (shorter -> slower)\n",
        "\n",
        "pipeline.generate(ctx, token_count=150, args=args, callback=my_print)\n",
        "print('\\n')"
      ],
      "metadata": {
        "colab": {
          "base_uri": "https://localhost:8080/"
        },
        "id": "ivGYgTNDmjkr",
        "outputId": "c3064e72-3607-4d26-ba17-bce686a8de22"
      },
      "execution_count": 9,
      "outputs": [
        {
          "output_type": "stream",
          "name": "stdout",
          "text": [
            "Here's a short story. One day Chris took his dog to a garden.\n",
            "The Story:\n",
            "Chris sat on the garden bench with his dog, Mica. The sun was hot\n",
            "and Chris was sitting in the shade of a big old tree. He had his dog\n",
            "in his lap and he'd told Mica about being outside all day with no sun.\n",
            "He told her about some of the trees he knew from before he left for\n",
            "college and then remembered how much they looked like real trees, but\n",
            "what they didn't have was leaves and grass and bushes to make them look\n",
            "like flowers. After that, he started thinking about the many things that\n",
            "could be lost when people leave their dogs outside for a while. And then,\n",
            "he thought of this song: \"Happiness is a beautiful thing.\"\n",
            "\n"
          ]
        }
      ]
    }
  ]
}